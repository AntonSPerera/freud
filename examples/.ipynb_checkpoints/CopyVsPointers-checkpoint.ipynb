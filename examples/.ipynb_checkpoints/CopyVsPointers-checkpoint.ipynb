{
 "cells": [
  {
   "cell_type": "markdown",
   "metadata": {
    "collapsed": true
   },
   "source": [
    "# Data copying vs. Data from pointers\n",
    "\n",
    "If you have never programmed in C++ before (or even if you have), you may not be familiar with pointers. While it's beyond the scope of this tutorial to cover what pointers are and how they are used, this tutorial will briefly cover some of the issues you may have in Freud which involve pointers. If you are interested in pointers, or if you plan on developing freud, the [C++ tutorial on pointers](http://www.cplusplus.com/doc/tutorial/pointers/) is a good place to start.\n",
    "\n",
    "## Python level example (not really pointers, but it gets the point across)\n",
    "\n",
    "Run the following code and take a guess what the value of `b[0]` will be:\n",
    "* 1\n",
    "* 2"
   ]
  },
  {
   "cell_type": "code",
   "execution_count": 1,
   "metadata": {
    "collapsed": false
   },
   "outputs": [
    {
     "name": "stdout",
     "output_type": "stream",
     "text": [
      "2\n"
     ]
    }
   ],
   "source": [
    "a = [1]\n",
    "b = a\n",
    "a[0] = 2\n",
    "print(b[0])"
   ]
  },
  {
   "cell_type": "markdown",
   "metadata": {},
   "source": [
    "## Variables by reference\n",
    "\n",
    "In python, this is an example of assignment by reference. `b` is not created as its own list; rather, b is created as a reference to `a`, so by changing `a`, we also change `b`. In C++ you can do the same thing (create/pass variables by reference) but you can also do it by pointer, which is the memory address of the value. While there is a difference, the end result is the same: by changing the value of `a` you change the value of `b`. There are many pros to donig things this way, including lower memory usage and faster performance, but it's easy to inadvertantly overwrite data.\n",
    "\n",
    "# Creating Numpy  arrays by pointer\n",
    "\n",
    "In Freud we decided to create our numpy arrays by passing a pointer from C++. This was the fastest, most efficient way to do this, but can result in data being changed or overwritten, so take care when performing calculations, and create copies where necessary:"
   ]
  },
  {
   "cell_type": "code",
   "execution_count": 4,
   "metadata": {
    "collapsed": false
   },
   "outputs": [
    {
     "data": {
      "image/png": "[encoded data removed]",
      "text/plain": [
       "<matplotlib.figure.Figure at 0x10a843828>"
      ]
     },
     "metadata": {},
     "output_type": "display_data"
    }
   ],
   "source": [
    "%matplotlib inline\n",
    "import numpy as np\n",
    "from cycler import cycler\n",
    "import matplotlib\n",
    "import matplotlib.pyplot as plt\n",
    "from matplotlib.ticker import LinearLocator, FormatStrFormatter, MultipleLocator, ScalarFormatter\n",
    "from matplotlib.colors import colorConverter\n",
    "import glotzformats\n",
    "# these are settings I enjoy, feel free to use your own\n",
    "myHexColors = [\"#30A2DA\", \"#FC4F30\", \"#E5AE38\", \"#6D904F\", \"#9757DB\",\n",
    "               \"#188487\", \"#FF7F00\", \"#9A2C66\", \"#626DDA\", \"#8B8B8B\"]\n",
    "myColorCycle = [colorConverter.to_rgb(i) for i in myHexColors]\n",
    "my_marker_cycle = [\"o\", \"^\", \"s\", \"p\", \"D\", \"v\", \"8\", \"h\", \"+\", \".\"]\n",
    "plt.rc('axes', prop_cycle=(cycler(\"color\", myColorCycle) + \n",
    "                           cycler(\"marker\", my_marker_cycle)))\n",
    "from freud import parallel, box, density\n",
    "parallel.setNumThreads(4)\n",
    "gsd_reader = glotzformats.reader.GSDHOOMDFileReader()\n",
    "rdf = density.RDF(rmax=10.0, dr=0.1)\n",
    "data_path = \"ex_data\"\n",
    "box_data = np.load(\"{}/box_data.npy\".format(data_path))\n",
    "pos_data = np.load(\"{}/pos_data.npy\".format(data_path))\n",
    "quat_data = np.load(\"{}/quat_data.npy\".format(data_path))\n",
    "# reset the rdf; required if not using compute\n",
    "n_frames = pos_data.shape[0]\n",
    "# for all frames except the first (your syntax will vary based on your reader)\n",
    "for frame in range(1, n_frames):\n",
    "    # read box, position data\n",
    "    l_box = box_data[frame]\n",
    "    l_pos = pos_data[frame]\n",
    "    # create the freud box object\n",
    "    fbox = box.Box(Lx=l_box[\"Lx\"], Ly=l_box[\"Ly\"], is2D=True)\n",
    "    # compute\n",
    "    rdf.accumulate(fbox, pos, pos)\n",
    "\n",
    "# get the center of the histogram bins\n",
    "r_avg = np.copy(rdf.getR())\n",
    "# get the value of the histogram bins\n",
    "y_avg = np.copy(rdf.getRDF())\n",
    "\n",
    "# read box, position data\n",
    "l_box = box_data[frame]\n",
    "l_pos = pos_data[frame]\n",
    "# create the freud box object\n",
    "fbox = box.Box(Lx=l_box[\"Lx\"], Ly=l_box[\"Ly\"], is2D=True)\n",
    "# compute\n",
    "rdf.compute(fbox, pos, pos)\n",
    "# get the center of the histogram bins\n",
    "r = rdf.getR()\n",
    "# get the value of the histogram bins\n",
    "y = rdf.getRDF()\n",
    "# create matplotlib plot\n",
    "fig = plt.figure(figsize=(6,6))\n",
    "# create axes\n",
    "ax = fig.add_subplot(111)\n",
    "ax.plot(r, y, marker=\",\", label=r\"$g\\left(r\\right)$\")\n",
    "ax.plot(r_avg, y_avg, marker=\",\", label=r\"$g\\left(r\\right)_{avg}$\")\n",
    "handles, labels = ax.get_legend_handles_labels()\n",
    "ax.legend(handles, labels, loc=0, frameon=True, fontsize=16,\n",
    "          ncol=1, fancybox=True, framealpha=0.5)\n",
    "ax.set_xlabel(r\"$r$\")\n",
    "ax.set_ylabel(r\"$g \\left( r \\right)$\")\n",
    "ax.xaxis.label.set_fontsize(20)\n",
    "ax.yaxis.label.set_fontsize(20)\n",
    "ax.xaxis.set_tick_params(labelsize=16)\n",
    "ax.yaxis.set_tick_params(labelsize=16)\n",
    "plt.show()"
   ]
  },
  {
   "cell_type": "code",
   "execution_count": null,
   "metadata": {
    "collapsed": true
   },
   "outputs": [],
   "source": []
  }
 ],
 "metadata": {
  "kernelspec": {
   "display_name": "Python 3",
   "language": "python",
   "name": "python3"
  },
  "language_info": {
   "codemirror_mode": {
    "name": "ipython",
    "version": 3
   },
   "file_extension": ".py",
   "mimetype": "text/x-python",
   "name": "python",
   "nbconvert_exporter": "python",
   "pygments_lexer": "ipython3",
   "version": "3.5.1"
  }
 },
 "nbformat": 4,
 "nbformat_minor": 0
}
