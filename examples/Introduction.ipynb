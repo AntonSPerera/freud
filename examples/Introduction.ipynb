{
 "cells": [
  {
   "cell_type": "markdown",
   "metadata": {},
   "source": [
    "# Introduction\n",
    "\n",
    "Lorem Ipsum...\n",
    "\n",
    "In this example we will be computing the *radial distribution function* TODO add link to documentation...when that documentation is online...get that added to the website!\n",
    "\n",
    "To calculate the radial distribution function TODO (add in math to actual section?), we will need to follow the following workflow:\n",
    "\n",
    "1. Load data\n",
    "2. Create Freud RDF object\n",
    "3. Compute the RDF\n",
    "4. Extract data from the Freud RDF object\n",
    "5. (optional) Plot data\n",
    "\n",
    "# Required Packages\n",
    "\n",
    "We will use the following python packages, please install with your favorite package manager:\n",
    "\n",
    "* matplotlib - plotting\n",
    "* numpy - general scientific goodness\n",
    "* glotzformats - to load trajectories"
   ]
  },
  {
   "cell_type": "code",
   "execution_count": 4,
   "metadata": {
    "collapsed": true
   },
   "outputs": [],
   "source": [
    "%matplotlib inline\n",
    "import numpy as np\n",
    "from cycler import cycler\n",
    "import matplotlib\n",
    "import matplotlib.pyplot as plt\n",
    "from matplotlib.ticker import LinearLocator, FormatStrFormatter, MultipleLocator, ScalarFormatter\n",
    "from matplotlib.colors import colorConverter\n",
    "import glotzformats\n",
    "# these are settings I enjoy, feel free to use your own\n",
    "myHexColors = [\"#30A2DA\", \"#FC4F30\", \"#E5AE38\", \"#6D904F\", \"#9757DB\",\n",
    "               \"#188487\", \"#FF7F00\", \"#9A2C66\", \"#626DDA\", \"#8B8B8B\"]\n",
    "myColorCycle = [colorConverter.to_rgb(i) for i in myHexColors]\n",
    "my_marker_cycle = [\"o\", \"^\", \"s\", \"p\", \"D\", \"v\", \"8\", \"h\", \"+\", \".\"]\n",
    "plt.rc('axes', prop_cycle=(cycler(\"color\", myColorCycle) + \n",
    "                           cycler(\"marker\", my_marker_cycle)))"
   ]
  },
  {
   "cell_type": "markdown",
   "metadata": {},
   "source": [
    "# Set Up Freud\n",
    "\n",
    "Now we need to import freud to our environment. In this case, we will import specific modules rather than import the whole of freud. Feel free to just use\n",
    "\n",
    "    import freud\n",
    "\n",
    "as you see fit."
   ]
  },
  {
   "cell_type": "code",
   "execution_count": 2,
   "metadata": {
    "collapsed": true
   },
   "outputs": [],
   "source": [
    "from freud import parallel, box, density\n",
    "parallel.setNumThreads(4)"
   ]
  },
  {
   "cell_type": "markdown",
   "metadata": {},
   "source": [
    "We imported the following modules:\n",
    "\n",
    "* parallel - allows you to set the number of threads you will use during calculations. Yes, Freud is parallelized!\n",
    "    - By default freud will use the maximum number of threads available on your machine. Here, I set it to 4, please set as needed on your machine. If working on a shared machine, consider using a moderate number of threads.\n",
    "    - Don't forget to benchmark your calculations, or refer to the freud benchmarks to determine the optimal number of cores to use. More is not always better!\n",
    "* box - module used to create the simulation boxes used in freud calculations\n",
    "* density - module containing density-related calculations, including the radial distribution function"
   ]
  },
  {
   "cell_type": "markdown",
   "metadata": {},
   "source": [
    "# Loading Data\n",
    "\n",
    "Freud makes no assumptions about your data, and doesn't provide a method to load specified formats, everything passed into freud must be a `np.ndarray` of type required by freud (see documentation). In this example the glotzformats reader is used. Due to the contextual nature of glotzformats, a tiny example is included below, but will not be explained:"
   ]
  },
  {
   "cell_type": "code",
   "execution_count": 8,
   "metadata": {
    "collapsed": false
   },
   "outputs": [],
   "source": [
    "gsd_reader = glotzformats.reader.GSDHOOMDFileReader()\n",
    "data_path = \"/nfs/glotzer/projects/EntropicBonding/2016/10/04102016/DataP0.55000/Run0/EntropicBonding.gsd\"\n",
    "with open(data_path, \"rb\") as gsd_file:\n",
    "    traj = gsd_reader.read(gsd_file)\n",
    "    # other code will go here"
   ]
  },
  {
   "cell_type": "markdown",
   "metadata": {},
   "source": [
    "# Create the RDF Object\n",
    "\n",
    "Each module in Freud contains a number of available computations. In order to perform any computations, you need to create an instance of the object. Please refer to the documentation for what arguments need to be supplied for the compute module you wish to use.\n",
    "\n",
    "Let's create the RDF object. For your convenience, we use the help function to show what needs to be supplied:"
   ]
  },
  {
   "cell_type": "code",
   "execution_count": 11,
   "metadata": {
    "collapsed": false
   },
   "outputs": [
    {
     "name": "stdout",
     "output_type": "stream",
     "text": [
      "Help on class RDF in module freud._freud:\n",
      "\n",
      "class RDF(builtins.object)\n",
      " |  Computes RDF for supplied data\n",
      " |  \n",
      " |  The RDF (g(r)) is computed and averaged for a given set of reference points in a sea of data points. Providing the\n",
      " |  same points calculates them against themselves. Computing the RDF results in an rdf array listing the value of the\n",
      " |  RDF at each given r, listed in the r array.\n",
      " |  \n",
      " |  The values of r to compute the rdf are set by the values of rmax, dr in the constructor. rmax sets the maximum\n",
      " |  distance at which to calculate the g(r) while dr determines the step size for each bin.\n",
      " |  \n",
      " |  .. moduleauthor:: Eric Harper <harperic@umich.edu>\n",
      " |  \n",
      " |  .. note::\n",
      " |      2D: RDF properly handles 2D boxes. Requires the points to be passed in [x, y, 0]. Failing to z=0 will lead to         undefined behavior.\n",
      " |  \n",
      " |  :param rmax: maximum distance to calculate\n",
      " |  :param dr: distance between histogram bins\n",
      " |  :type rmax: float\n",
      " |  :type dr: float\n",
      " |  \n",
      " |  Methods defined here:\n",
      " |  \n",
      " |  __new__(*args, **kwargs) from builtins.type\n",
      " |      Create and return a new object.  See help(type) for accurate signature.\n",
      " |  \n",
      " |  accumulate(...)\n",
      " |      RDF.accumulate(self, box, refPoints, points)\n",
      " |      \n",
      " |      Calculates the rdf and adds to the current rdf histogram.\n",
      " |      \n",
      " |      :param box: simulation box\n",
      " |      :param refPoints: reference points to calculate the local density\n",
      " |      :param points: points to calculate the local density\n",
      " |      :type box: :py:meth:`freud.box.Box`\n",
      " |      :type refPoints: np.float32\n",
      " |      :type points: np.float32\n",
      " |  \n",
      " |  compute(...)\n",
      " |      RDF.compute(self, box, refPoints, points)\n",
      " |      \n",
      " |      Calculates the rdf for the specified points. Will overwrite the current histogram.\n",
      " |      \n",
      " |      :param box: simulation box\n",
      " |      :param refPoints: reference points to calculate the local density\n",
      " |      :param points: points to calculate the local density\n",
      " |      :type box: :py:meth:`freud.box.Box`\n",
      " |      :type refPoints: np.float32\n",
      " |      :type points: np.float32\n",
      " |  \n",
      " |  getBox(...)\n",
      " |      RDF.getBox(self)\n",
      " |      \n",
      " |      :return: Freud Box\n",
      " |      :rtype: :py:meth:`freud.box.Box()`\n",
      " |  \n",
      " |  getNr(...)\n",
      " |      RDF.getNr(self)\n",
      " |      \n",
      " |      :return: histogram of cumulative rdf values\n",
      " |      :rtype: np.float32\n",
      " |  \n",
      " |  getR(...)\n",
      " |      RDF.getR(self)\n",
      " |      \n",
      " |      :return: values of the histogram bin centers\n",
      " |      :rtype: np.float32\n",
      " |  \n",
      " |  getRDF(...)\n",
      " |      RDF.getRDF(self)\n",
      " |      \n",
      " |      :return: histogram of rdf values\n",
      " |      :rtype: np.float32\n",
      " |  \n",
      " |  reduceRDF(...)\n",
      " |      RDF.reduceRDF(self)\n",
      " |      \n",
      " |      Reduces the histogram in the values over N processors to a single histogram. This is called automatically by\n",
      " |      :py:meth:`freud.density.RDF.getRDF()`, :py:meth:`freud.density.RDF.getNr()`.\n",
      " |  \n",
      " |  resetRDF(...)\n",
      " |      RDF.resetRDF(self)\n",
      " |      \n",
      " |      resets the values of RDF in memory\n",
      "\n"
     ]
    }
   ],
   "source": [
    "help(density.RDF)"
   ]
  },
  {
   "cell_type": "markdown",
   "metadata": {},
   "source": [
    "It looks like the constructor takes in `rmax` and `dr` as parameters, or the maximum distance to calculate the rdf, and the size of the rdf histogram bin e.g. `r_max = 10` and `dr = 0.1`:"
   ]
  },
  {
   "cell_type": "code",
   "execution_count": 12,
   "metadata": {
    "collapsed": true
   },
   "outputs": [],
   "source": [
    "rdf = density.RDF(rmax=10.0, dr=0.1)"
   ]
  },
  {
   "cell_type": "markdown",
   "metadata": {},
   "source": [
    "# Compute the RDF\n",
    "\n",
    "It's time to actually compute the rdf, so here we go, what is happening is briefly explained in the comments"
   ]
  },
  {
   "cell_type": "code",
   "execution_count": 22,
   "metadata": {
    "collapsed": false
   },
   "outputs": [],
   "source": [
    "gsd_reader = glotzformats.reader.GSDHOOMDFileReader()\n",
    "data_path = \"/nfs/glotzer/projects/EntropicBonding/2016/10/04102016/DataP0.55000/Run0/EntropicBonding.gsd\"\n",
    "with open(data_path, \"rb\") as gsd_file:\n",
    "    traj = gsd_reader.read(gsd_file)\n",
    "    # just for the last frame in the trajectory\n",
    "    frame = traj[-1]\n",
    "    # create the box\n",
    "    gbox = frame.box\n",
    "    fbox = box.Box(Lx=gbox.Lx, Ly=gbox.Ly, is2D=True)\n",
    "    # get the positions\n",
    "    pos = frame.positions\n",
    "    # compute\n",
    "    rdf.compute(fbox, pos, pos)"
   ]
  },
  {
   "cell_type": "markdown",
   "metadata": {},
   "source": [
    "# I computed the RDF, now what?\n",
    "\n",
    "You might be thinking to yourself \"ok, now what?\" First, you need to get your data out of freud. Second, you need to visualize that data."
   ]
  },
  {
   "cell_type": "markdown",
   "metadata": {},
   "source": [
    "## Getting your data out of Freud\n",
    "\n",
    "That sweet, sweet RDF data is currently in C++, but we want it in python, so let's get it out of there!"
   ]
  },
  {
   "cell_type": "code",
   "execution_count": 23,
   "metadata": {
    "collapsed": true
   },
   "outputs": [],
   "source": [
    "# get the center of the histogram bins\n",
    "r = rdf.getR()\n",
    "# get the value of the histogram bins\n",
    "y = rdf.getRDF()"
   ]
  },
  {
   "cell_type": "markdown",
   "metadata": {},
   "source": [
    "## Visualizing your data\n",
    "\n",
    "Remember, Freud makes no assumptions about your data or how you want to visualize it. Want to use matplotlib like we do here? Go right ahead. Want to be a heathen and use Excel? Go right ahead, no one is stopping you (except your conscience...don't use Excel)"
   ]
  },
  {
   "cell_type": "code",
   "execution_count": 24,
   "metadata": {
    "collapsed": false
   },
   "outputs": [
    {
     "data": {
      "image/png": "[encoded data removed]",
      "text/plain": [
       "<matplotlib.figure.Figure at 0x10a7bcac8>"
      ]
     },
     "metadata": {},
     "output_type": "display_data"
    }
   ],
   "source": [
    "# create matplotlib plot\n",
    "fig = plt.figure(figsize=(6,6))\n",
    "# create axes\n",
    "ax = fig.add_subplot(111)\n",
    "ax.plot(r, y, label=\"rdf\")\n",
    "plt.show()"
   ]
  },
  {
   "cell_type": "markdown",
   "metadata": {},
   "source": [
    "# Accumulate, or how I stopped worrying and let Freud do trivial tasks for me\n",
    "\n",
    "A lot of times we want to average our data over many simualtion frames. Freud does this for you with the `accumulate` method: "
   ]
  },
  {
   "cell_type": "code",
   "execution_count": 27,
   "metadata": {
    "collapsed": false
   },
   "outputs": [
    {
     "data": {
      "image/png": "[encoded data removed]",
      "text/plain": [
       "<matplotlib.figure.Figure at 0x10c598630>"
      ]
     },
     "metadata": {},
     "output_type": "display_data"
    }
   ],
   "source": [
    "with open(data_path, \"rb\") as gsd_file:\n",
    "    traj = gsd_reader.read(gsd_file)\n",
    "    # for all frames except the first (your syntax will vary based on your reader)\n",
    "    for frame in traj[1:]:\n",
    "        # create the box\n",
    "        gbox = frame.box\n",
    "        fbox = box.Box(Lx=gbox.Lx, Ly=gbox.Ly, is2D=True)\n",
    "        # get the positions\n",
    "        pos = frame.positions\n",
    "        # compute\n",
    "        rdf.accumulate(fbox, pos, pos)\n",
    "\n",
    "# get the center of the histogram bins\n",
    "r = rdf.getR()\n",
    "# get the value of the histogram bins\n",
    "y = rdf.getRDF()\n",
    "# create matplotlib plot\n",
    "fig = plt.figure(figsize=(6,6))\n",
    "# create axes\n",
    "ax = fig.add_subplot(111)\n",
    "ax.plot(r, y, label=\"rdf\")\n",
    "plt.show()"
   ]
  },
  {
   "cell_type": "markdown",
   "metadata": {},
   "source": [
    "# What's the difference?\n",
    "\n",
    "Let's plot together and find out:"
   ]
  },
  {
   "cell_type": "code",
   "execution_count": 34,
   "metadata": {
    "collapsed": false
   },
   "outputs": [
    {
     "data": {
      "image/png": "[encoded data removed]",
      "text/plain": [
       "<matplotlib.figure.Figure at 0x10ccdb8d0>"
      ]
     },
     "metadata": {},
     "output_type": "display_data"
    }
   ],
   "source": [
    "# reset the rdf; required if not using compute\n",
    "rdf.resetRDF()\n",
    "with open(data_path, \"rb\") as gsd_file:\n",
    "    traj = gsd_reader.read(gsd_file)\n",
    "    # for all frames except the first (your syntax will vary based on your reader)\n",
    "    for frame in traj[1:]:\n",
    "        # create the box\n",
    "        gbox = frame.box\n",
    "        fbox = box.Box(Lx=gbox.Lx, Ly=gbox.Ly, is2D=True)\n",
    "        # get the positions\n",
    "        pos = frame.positions\n",
    "        # compute\n",
    "        rdf.accumulate(fbox, pos, pos)\n",
    "\n",
    "# get the center of the histogram bins\n",
    "r_avg = rdf.getR()\n",
    "# get the value of the histogram bins\n",
    "y_avg = rdf.getRDF()\n",
    "with open(data_path, \"rb\") as gsd_file:\n",
    "    traj = gsd_reader.read(gsd_file)\n",
    "    # for all frames except the first (your syntax will vary based on your reader)\n",
    "    frame = traj[-1]\n",
    "    # create the box\n",
    "    gbox = frame.box\n",
    "    fbox = box.Box(Lx=gbox.Lx, Ly=gbox.Ly, is2D=True)\n",
    "    # get the positions\n",
    "    pos = frame.positions\n",
    "    # compute\n",
    "    rdf.compute(fbox, pos, pos)\n",
    "# get the center of the histogram bins\n",
    "r = rdf.getR()\n",
    "# get the value of the histogram bins\n",
    "y = rdf.getRDF()\n",
    "# create matplotlib plot\n",
    "fig = plt.figure(figsize=(6,6))\n",
    "# create axes\n",
    "ax = fig.add_subplot(111)\n",
    "ax.plot(r, y, marker=\",\", label=r\"$g\\left(r\\right)$\")\n",
    "ax.plot(r_avg, y_avg, marker=\",\", label=r\"$g\\left(r\\right)_{avg}$\")\n",
    "handles, labels = ax.get_legend_handles_labels()\n",
    "ax.legend(handles, labels, loc=0, frameon=True, fontsize=16,\n",
    "          ncol=1, fancybox=True, framealpha=0.5)\n",
    "ax.set_xlabel(r\"$r$\")\n",
    "ax.set_ylabel(r\"$g \\left( r \\right)$\")\n",
    "ax.xaxis.label.set_fontsize(20)\n",
    "ax.yaxis.label.set_fontsize(20)\n",
    "ax.xaxis.set_tick_params(labelsize=16)\n",
    "ax.yaxis.set_tick_params(labelsize=16)\n",
    "plt.show()"
   ]
  },
  {
   "cell_type": "markdown",
   "metadata": {},
   "source": [
    "# Wait a second, there's no difference?!\n",
    "\n",
    "Right you are, but there should be..."
   ]
  },
  {
   "cell_type": "code",
   "execution_count": 33,
   "metadata": {
    "collapsed": false
   },
   "outputs": [
    {
     "data": {
      "image/png": "[encoded data removed]",
      "text/plain": [
       "<matplotlib.figure.Figure at 0x10d16f080>"
      ]
     },
     "metadata": {},
     "output_type": "display_data"
    }
   ],
   "source": [
    "# reset the rdf; required if not using compute\n",
    "rdf.resetRDF()\n",
    "with open(data_path, \"rb\") as gsd_file:\n",
    "    traj = gsd_reader.read(gsd_file)\n",
    "    # for all frames except the first (your syntax will vary based on your reader)\n",
    "    for frame in traj[1:]:\n",
    "        # create the box\n",
    "        gbox = frame.box\n",
    "        fbox = box.Box(Lx=gbox.Lx, Ly=gbox.Ly, is2D=True)\n",
    "        # get the positions\n",
    "        pos = frame.positions\n",
    "        # compute\n",
    "        rdf.accumulate(fbox, pos, pos)\n",
    "\n",
    "# get the center of the histogram bins\n",
    "r_avg = np.copy(rdf.getR())\n",
    "# get the value of the histogram bins\n",
    "y_avg = np.copy(rdf.getRDF())\n",
    "with open(data_path, \"rb\") as gsd_file:\n",
    "    traj = gsd_reader.read(gsd_file)\n",
    "    # for all frames except the first (your syntax will vary based on your reader)\n",
    "    frame = traj[-1]\n",
    "    # create the box\n",
    "    gbox = frame.box\n",
    "    fbox = box.Box(Lx=gbox.Lx, Ly=gbox.Ly, is2D=True)\n",
    "    # get the positions\n",
    "    pos = frame.positions\n",
    "    # compute\n",
    "    rdf.compute(fbox, pos, pos)\n",
    "# get the center of the histogram bins\n",
    "r = rdf.getR()\n",
    "# get the value of the histogram bins\n",
    "y = rdf.getRDF()\n",
    "# create matplotlib plot\n",
    "fig = plt.figure(figsize=(6,6))\n",
    "# create axes\n",
    "ax = fig.add_subplot(111)\n",
    "ax.plot(r, y, marker=\",\", label=r\"$g\\left(r\\right)$\")\n",
    "ax.plot(r_avg, y_avg, marker=\",\", label=r\"$g\\left(r\\right)_{avg}$\")\n",
    "handles, labels = ax.get_legend_handles_labels()\n",
    "ax.legend(handles, labels, loc=0, frameon=True, fontsize=16,\n",
    "          ncol=1, fancybox=True, framealpha=0.5)\n",
    "ax.set_xlabel(r\"$r$\")\n",
    "ax.set_ylabel(r\"$g \\left( r \\right)$\")\n",
    "ax.xaxis.label.set_fontsize(20)\n",
    "ax.yaxis.label.set_fontsize(20)\n",
    "ax.xaxis.set_tick_params(labelsize=16)\n",
    "ax.yaxis.set_tick_params(labelsize=16)\n",
    "plt.show()"
   ]
  },
  {
   "cell_type": "markdown",
   "metadata": {},
   "source": [
    "# Pointers vs. Copies\n",
    "\n",
    "By default Freud returns a numpy array *as a pointer*. This is done for speed, but can result in the above problem. Please be sure to copy your data out as need be."
   ]
  },
  {
   "cell_type": "code",
   "execution_count": null,
   "metadata": {
    "collapsed": true
   },
   "outputs": [],
   "source": []
  }
 ],
 "metadata": {
  "kernelspec": {
   "display_name": "Python 3",
   "language": "python",
   "name": "python3"
  },
  "language_info": {
   "codemirror_mode": {
    "name": "ipython",
    "version": 3
   },
   "file_extension": ".py",
   "mimetype": "text/x-python",
   "name": "python",
   "nbconvert_exporter": "python",
   "pygments_lexer": "ipython3",
   "version": "3.5.1"
  }
 },
 "nbformat": 4,
 "nbformat_minor": 0
}
