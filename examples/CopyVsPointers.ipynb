{
 "cells": [
  {
   "cell_type": "markdown",
   "metadata": {
    "collapsed": true
   },
   "source": [
    "# Data copying vs. Data from pointers\n",
    "\n",
    "If you have never programmed in C++ before (or even if you have), you may not be familiar with pointers. While it's beyond the scope of this tutorial to cover what pointers are and how they are used, this tutorial will briefly cover some of the issues you may have in Freud which involve pointers. If you are interested in pointers, or if you plan on developing freud, the [C++ tutorial on pointers](http://www.cplusplus.com/doc/tutorial/pointers/) is a good place to start.\n",
    "\n",
    "## Python level example (not really pointers, but it gets the point across)\n",
    "\n",
    "Run the following code and take a guess what the value of `b[0]` will be:\n",
    "* 1\n",
    "* 2"
   ]
  },
  {
   "cell_type": "code",
   "execution_count": 9,
   "metadata": {
    "collapsed": false
   },
   "outputs": [
    {
     "name": "stdout",
     "output_type": "stream",
     "text": [
      "2\n"
     ]
    }
   ],
   "source": [
    "a = [1]\n",
    "b = a\n",
    "a[0] = 2\n",
    "print(b[0])"
   ]
  },
  {
   "cell_type": "markdown",
   "metadata": {},
   "source": [
    "## Variables by reference\n",
    "\n",
    "In python, this is an example of assignment by reference. `b` is not created as its own list; rather, b is created as a reference to `a`, so by changing `a`, we also change `b`. In C++ you can do the same thing (create/pass variables by reference) but you can also do it by pointer, which is the memory address of the value. While there is a difference, the end result is the same: by changing the value of `a` you change the value of `b`. There are many pros to donig things this way, including lower memory usage and faster performance, but it's easy to inadvertantly overwrite data.\n",
    "\n",
    "# Creating Numpy  arrays by pointer\n",
    "\n",
    "In Freud we decided to create our numpy arrays by passing a pointer from C++. This was the fastest, most efficient way to do this, but can result in data being changed or overwritten, so take care when performing calculations, and create copies where necessary:"
   ]
  },
  {
   "cell_type": "code",
   "execution_count": 11,
   "metadata": {
    "collapsed": false
   },
   "outputs": [
    {
     "ename": "FileNotFoundError",
     "evalue": "[Errno 2] No such file or directory: '/nfs/glotzer/projects/EntropicBonding/2016/10/04102016/DataP0.55000/Run0/EntropicBonding.gsd'",
     "output_type": "error",
     "traceback": [
      "\u001b[0;31m---------------------------------------------------------------------------\u001b[0m",
      "\u001b[0;31mFileNotFoundError\u001b[0m                         Traceback (most recent call last)",
      "\u001b[0;32m<ipython-input-11-6b69d27d17a7>\u001b[0m in \u001b[0;36m<module>\u001b[0;34m()\u001b[0m\n\u001b[1;32m     20\u001b[0m \u001b[0mdata_path\u001b[0m \u001b[0;34m=\u001b[0m \u001b[0;34m\"/nfs/glotzer/projects/EntropicBonding/2016/10/04102016/DataP0.55000/Run0/EntropicBonding.gsd\"\u001b[0m\u001b[0;34m\u001b[0m\u001b[0m\n\u001b[1;32m     21\u001b[0m \u001b[0;31m# reset the rdf; required if not using compute\u001b[0m\u001b[0;34m\u001b[0m\u001b[0;34m\u001b[0m\u001b[0m\n\u001b[0;32m---> 22\u001b[0;31m \u001b[0;32mwith\u001b[0m \u001b[0mopen\u001b[0m\u001b[0;34m(\u001b[0m\u001b[0mdata_path\u001b[0m\u001b[0;34m,\u001b[0m \u001b[0;34m\"rb\"\u001b[0m\u001b[0;34m)\u001b[0m \u001b[0;32mas\u001b[0m \u001b[0mgsd_file\u001b[0m\u001b[0;34m:\u001b[0m\u001b[0;34m\u001b[0m\u001b[0m\n\u001b[0m\u001b[1;32m     23\u001b[0m     \u001b[0mtraj\u001b[0m \u001b[0;34m=\u001b[0m \u001b[0mgsd_reader\u001b[0m\u001b[0;34m.\u001b[0m\u001b[0mread\u001b[0m\u001b[0;34m(\u001b[0m\u001b[0mgsd_file\u001b[0m\u001b[0;34m)\u001b[0m\u001b[0;34m\u001b[0m\u001b[0m\n\u001b[1;32m     24\u001b[0m     \u001b[0;31m# for all frames except the first (your syntax will vary based on your reader)\u001b[0m\u001b[0;34m\u001b[0m\u001b[0;34m\u001b[0m\u001b[0m\n",
      "\u001b[0;31mFileNotFoundError\u001b[0m: [Errno 2] No such file or directory: '/nfs/glotzer/projects/EntropicBonding/2016/10/04102016/DataP0.55000/Run0/EntropicBonding.gsd'"
     ]
    }
   ],
   "source": [
    "%matplotlib inline\n",
    "import numpy as np\n",
    "from cycler import cycler\n",
    "import matplotlib\n",
    "import matplotlib.pyplot as plt\n",
    "from matplotlib.ticker import LinearLocator, FormatStrFormatter, MultipleLocator, ScalarFormatter\n",
    "from matplotlib.colors import colorConverter\n",
    "import glotzformats\n",
    "# these are settings I enjoy, feel free to use your own\n",
    "myHexColors = [\"#30A2DA\", \"#FC4F30\", \"#E5AE38\", \"#6D904F\", \"#9757DB\",\n",
    "               \"#188487\", \"#FF7F00\", \"#9A2C66\", \"#626DDA\", \"#8B8B8B\"]\n",
    "myColorCycle = [colorConverter.to_rgb(i) for i in myHexColors]\n",
    "my_marker_cycle = [\"o\", \"^\", \"s\", \"p\", \"D\", \"v\", \"8\", \"h\", \"+\", \".\"]\n",
    "plt.rc('axes', prop_cycle=(cycler(\"color\", myColorCycle) + \n",
    "                           cycler(\"marker\", my_marker_cycle)))\n",
    "from freud import parallel, box, density\n",
    "parallel.setNumThreads(4)\n",
    "gsd_reader = glotzformats.reader.GSDHOOMDFileReader()\n",
    "rdf = density.RDF(rmax=10.0, dr=0.1)\n",
    "data_path = \"/nfs/glotzer/projects/EntropicBonding/2016/10/04102016/DataP0.55000/Run0/EntropicBonding.gsd\"\n",
    "# reset the rdf; required if not using compute\n",
    "with open(data_path, \"rb\") as gsd_file:\n",
    "    traj = gsd_reader.read(gsd_file)\n",
    "    # for all frames except the first (your syntax will vary based on your reader)\n",
    "    for frame in traj[1:]:\n",
    "        # create the box\n",
    "        gbox = frame.box\n",
    "        fbox = box.Box(Lx=gbox.Lx, Ly=gbox.Ly, is2D=True)\n",
    "        # get the positions\n",
    "        pos = frame.positions\n",
    "        # compute\n",
    "        rdf.accumulate(fbox, pos, pos)\n",
    "\n",
    "# get the center of the histogram bins\n",
    "r_avg = rdf.getR()\n",
    "# get the value of the histogram bins\n",
    "y_avg = rdf.getRDF()\n",
    "with open(data_path, \"rb\") as gsd_file:\n",
    "    traj = gsd_reader.read(gsd_file)\n",
    "    # for all frames except the first (your syntax will vary based on your reader)\n",
    "    frame = traj[-1]\n",
    "    # create the box\n",
    "    gbox = frame.box\n",
    "    fbox = box.Box(Lx=gbox.Lx, Ly=gbox.Ly, is2D=True)\n",
    "    # get the positions\n",
    "    pos = frame.positions\n",
    "    # compute\n",
    "    rdf.compute(fbox, pos, pos)\n",
    "# get the center of the histogram bins\n",
    "r = rdf.getR()\n",
    "# get the value of the histogram bins\n",
    "y = rdf.getRDF()\n",
    "# create matplotlib plot\n",
    "fig = plt.figure(figsize=(6,6))\n",
    "# create axes\n",
    "ax = fig.add_subplot(111)\n",
    "ax.plot(r, y, marker=\",\", label=r\"$g\\left(r\\right)$\")\n",
    "ax.plot(r_avg, y_avg, marker=\",\", label=r\"$g\\left(r\\right)_{avg}$\")\n",
    "handles, labels = ax.get_legend_handles_labels()\n",
    "ax.legend(handles, labels, loc=0, frameon=True, fontsize=16,\n",
    "          ncol=1, fancybox=True, framealpha=0.5)\n",
    "ax.set_xlabel(r\"$r$\")\n",
    "ax.set_ylabel(r\"$g \\left( r \\right)$\")\n",
    "ax.xaxis.label.set_fontsize(20)\n",
    "ax.yaxis.label.set_fontsize(20)\n",
    "ax.xaxis.set_tick_params(labelsize=16)\n",
    "ax.yaxis.set_tick_params(labelsize=16)\n",
    "plt.show()"
   ]
  },
  {
   "cell_type": "code",
   "execution_count": null,
   "metadata": {
    "collapsed": true
   },
   "outputs": [],
   "source": []
  }
 ],
 "metadata": {
  "kernelspec": {
   "display_name": "Python 3",
   "language": "python",
   "name": "python3"
  },
  "language_info": {
   "codemirror_mode": {
    "name": "ipython",
    "version": 3
   },
   "file_extension": ".py",
   "mimetype": "text/x-python",
   "name": "python",
   "nbconvert_exporter": "python",
   "pygments_lexer": "ipython3",
   "version": "3.5.1"
  }
 },
 "nbformat": 4,
 "nbformat_minor": 0
}
